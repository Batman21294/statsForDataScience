{
 "cells": [
  {
   "cell_type": "markdown",
   "id": "41428292",
   "metadata": {},
   "source": [
    "Suppose the IQ in a certain population is normally distributed with a mean μ = 100 and standard deviation σ = 15. \n",
    "\n",
    "A researcher wants to know if a new drug affects IQ levels, so he recruits 20 patients to try it and record their IQ levels.\n",
    "\n",
    "The following code shows how to perform a one sample z-test in Python to determine if a new drug causes a significant difference in IQ levels :"
   ]
  },
  {
   "cell_type": "code",
   "execution_count": 1,
   "id": "c698db3d",
   "metadata": {},
   "outputs": [
    {
     "data": {
      "text/plain": [
       "(1.5976240527147705, 0.1101266701438426)"
      ]
     },
     "execution_count": 1,
     "metadata": {},
     "output_type": "execute_result"
    }
   ],
   "source": [
    "from statsmodels.stats.weightstats import ztest as ztest\n",
    "\n",
    "#enter IQ levels for 20 patients\n",
    "data = [88,92,94,94,96,97,97,97,99,99,\n",
    "        105, 109,109,109,110,112,112,113,114,115]\n",
    "ztest(data,value=100)"
   ]
  },
  {
   "cell_type": "code",
   "execution_count": null,
   "id": "3e5db625",
   "metadata": {},
   "outputs": [],
   "source": [
    "# the first value is the value of z, the second is the p-value"
   ]
  }
 ],
 "metadata": {
  "kernelspec": {
   "display_name": "Python 3 (ipykernel)",
   "language": "python",
   "name": "python3"
  },
  "language_info": {
   "codemirror_mode": {
    "name": "ipython",
    "version": 3
   },
   "file_extension": ".py",
   "mimetype": "text/x-python",
   "name": "python",
   "nbconvert_exporter": "python",
   "pygments_lexer": "ipython3",
   "version": "3.10.9"
  }
 },
 "nbformat": 4,
 "nbformat_minor": 5
}
